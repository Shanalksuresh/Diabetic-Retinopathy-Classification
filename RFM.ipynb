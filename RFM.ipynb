{
 "cells": [
  {
   "cell_type": "code",
   "execution_count": 5,
   "id": "6bc8ddc7",
   "metadata": {},
   "outputs": [],
   "source": [
    "import pandas as pd\n",
    "import streamlit as st\n",
    "from sklearn.ensemble import RandomForestClassifier\n",
    "from sklearn.model_selection import train_test_split\n",
    "from sklearn.preprocessing import StandardScaler"
   ]
  },
  {
   "cell_type": "code",
   "execution_count": 2,
   "id": "72963334",
   "metadata": {},
   "outputs": [
    {
     "name": "stderr",
     "output_type": "stream",
     "text": [
      "2022-09-29 11:05:16.054 \n",
      "  \u001b[33m\u001b[1mWarning:\u001b[0m to view this Streamlit app on a browser, run it with the following\n",
      "  command:\n",
      "\n",
      "    streamlit run C:\\Users\\shanal\\anaconda3\\lib\\site-packages\\ipykernel_launcher.py [ARGUMENTS]\n"
     ]
    },
    {
     "data": {
      "text/plain": [
       "DeltaGenerator(_root_container=0, _provided_cursor=None, _parent=None, _block_type=None, _form_data=None)"
      ]
     },
     "execution_count": 2,
     "metadata": {},
     "output_type": "execute_result"
    }
   ],
   "source": [
    "st.title('Model Deployment : RandomForestClassifier')"
   ]
  },
  {
   "cell_type": "code",
   "execution_count": 6,
   "id": "07b0bfa1",
   "metadata": {},
   "outputs": [
    {
     "data": {
      "text/plain": [
       "DeltaGenerator(_root_container=1, _provided_cursor=None, _parent=DeltaGenerator(_root_container=0, _provided_cursor=None, _parent=None, _block_type=None, _form_data=None), _block_type=None, _form_data=None)"
      ]
     },
     "execution_count": 6,
     "metadata": {},
     "output_type": "execute_result"
    }
   ],
   "source": [
    "st.sidebar.header('Enter the details of the patient')"
   ]
  },
  {
   "cell_type": "code",
   "execution_count": 7,
   "id": "d73ead9c",
   "metadata": {},
   "outputs": [],
   "source": [
    "def user_input_features():\n",
    "    age = st.sidebar.number_input('age')\n",
    "    systolic_bp = st.sidebar.number_input('systolic_bp')\n",
    "    diastolic_bp = st.sidebar.number_input('diastolic_bp')\n",
    "    cholestrol = st.sidebar.number_input('cholestrol')"
   ]
  },
  {
   "cell_type": "code",
   "execution_count": null,
   "id": "8406d67f",
   "metadata": {},
   "outputs": [],
   "source": [
    "data = {'age':age,\n",
    "       'systolic_bp':systolic_bp,\n",
    "       'diastolic_bp':diastolic_bp,\n",
    "       'cholestrol':cholestrol}\n",
    "\n",
    "features = pd.DataFrame(data,index = [0])\n",
    "return features"
   ]
  },
  {
   "cell_type": "code",
   "execution_count": null,
   "id": "04cfbb8d",
   "metadata": {},
   "outputs": [],
   "source": [
    "data = user_input_features()\n",
    "st.subheader('Details of the patient')\n",
    "st.write(data)"
   ]
  },
  {
   "cell_type": "code",
   "execution_count": null,
   "id": "0ade4b73",
   "metadata": {},
   "outputs": [],
   "source": [
    "df = pd.read_csv(\"D:\\DS-Project\\pronostico_dataset.csv\",sep=\";\")\n",
    "df.drop([\"ID\"],inplace=True,axis=1)\n",
    "df = df.dropna()\n",
    "df.loc[df.prognosis=='retinopathy','prognosis']=1\n",
    "df.loc[df.prognosis=='no_retinopathy','prognosis']=0"
   ]
  },
  {
   "cell_type": "code",
   "execution_count": null,
   "id": "5238dfa2",
   "metadata": {},
   "outputs": [],
   "source": [
    "x=df.iloc[:,:-1]\n",
    "ss=StandardScaler\n",
    "x=ss.fit_transorm(x)\n",
    "y=df.iloc[:,1]\n",
    "y=y.asytpe(int)\n",
    "x_train,x_test,y_train,y_test_split(x,y, test_size=0.2,random_state=0)\n"
   ]
  },
  {
   "cell_type": "code",
   "execution_count": null,
   "id": "fdf2d181",
   "metadata": {},
   "outputs": [],
   "source": [
    "model_rf=RandomForestClassifier\n",
    "model_rf = RandomForestClassifier(n_estimators=108,max_depth=2,max_features=4,criterion='gini')\n",
    "model_rf.fit(x_train,y_train)"
   ]
  },
  {
   "cell_type": "code",
   "execution_count": null,
   "id": "39152847",
   "metadata": {},
   "outputs": [],
   "source": [
    "prediction =model_rf.predicts(ss.transform,(data))\n",
    "prediction_proba = model_rf.predict_proba(ss.fitransform(data))\n"
   ]
  },
  {
   "cell_type": "code",
   "execution_count": null,
   "id": "d5714b4b",
   "metadata": {},
   "outputs": [],
   "source": [
    "st.subheader('Predicted Result')\n",
    "st.write('Retinopathic' if prediction_proba[0][1] > 0.5 else 'No_Retinopathic')"
   ]
  },
  {
   "cell_type": "code",
   "execution_count": null,
   "id": "5249ab30",
   "metadata": {},
   "outputs": [],
   "source": [
    "st.subheader('Probability of Having Retinopathy and No_Retinopathy ')\n",
    "st.wrire(prediction_proba)"
   ]
  }
 ],
 "metadata": {
  "kernelspec": {
   "display_name": "Python 3 (ipykernel)",
   "language": "python",
   "name": "python3"
  },
  "language_info": {
   "codemirror_mode": {
    "name": "ipython",
    "version": 3
   },
   "file_extension": ".py",
   "mimetype": "text/x-python",
   "name": "python",
   "nbconvert_exporter": "python",
   "pygments_lexer": "ipython3",
   "version": "3.9.12"
  }
 },
 "nbformat": 4,
 "nbformat_minor": 5
}
