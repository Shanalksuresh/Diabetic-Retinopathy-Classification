{
 "cells": [
  {
   "cell_type": "code",
   "execution_count": 22,
   "id": "d46dd184",
   "metadata": {},
   "outputs": [],
   "source": [
    "import pandas as pd\n",
    "import numpy as np\n",
    "import warnings\n",
    "warnings.filterwarnings('ignore')\n",
    "import seaborn as sns\n",
    "import matplotlib.pyplot as plt\n",
    "from scipy import stats\n",
    "%matplotlib inline\n",
    "import statsmodels.api as sm\n",
    "from sklearn.model_selection import KFold\n",
    "from sklearn.model_selection import LeaveOneOut\n",
    "from sklearn.model_selection import cross_val_score\n",
    "from sklearn.neighbors import KNeighborsClassifier\n",
    "from sklearn.model_selection import GridSearchCV\n",
    "from sklearn.preprocessing import StandardScaler\n",
    "from sklearn import preprocessing\n",
    "from sklearn import metrics\n",
    "from sklearn.ensemble import RandomForestClassifier\n",
    "from sklearn.model_selection import train_test_split,KFold,cross_val_score"
   ]
  },
  {
   "cell_type": "markdown",
   "id": "0479b87a",
   "metadata": {},
   "source": [
    "## Load the Dataset"
   ]
  },
  {
   "cell_type": "code",
   "execution_count": 3,
   "id": "61daa751",
   "metadata": {},
   "outputs": [
    {
     "data": {
      "text/html": [
       "<div>\n",
       "<style scoped>\n",
       "    .dataframe tbody tr th:only-of-type {\n",
       "        vertical-align: middle;\n",
       "    }\n",
       "\n",
       "    .dataframe tbody tr th {\n",
       "        vertical-align: top;\n",
       "    }\n",
       "\n",
       "    .dataframe thead th {\n",
       "        text-align: right;\n",
       "    }\n",
       "</style>\n",
       "<table border=\"1\" class=\"dataframe\">\n",
       "  <thead>\n",
       "    <tr style=\"text-align: right;\">\n",
       "      <th></th>\n",
       "      <th>ID</th>\n",
       "      <th>age</th>\n",
       "      <th>systolic_bp</th>\n",
       "      <th>diastolic_bp</th>\n",
       "      <th>cholesterol</th>\n",
       "      <th>prognosis</th>\n",
       "    </tr>\n",
       "  </thead>\n",
       "  <tbody>\n",
       "    <tr>\n",
       "      <th>0</th>\n",
       "      <td>0</td>\n",
       "      <td>77.196340</td>\n",
       "      <td>85.288742</td>\n",
       "      <td>80.021878</td>\n",
       "      <td>79.957109</td>\n",
       "      <td>retinopathy</td>\n",
       "    </tr>\n",
       "    <tr>\n",
       "      <th>1</th>\n",
       "      <td>1</td>\n",
       "      <td>63.529850</td>\n",
       "      <td>99.379736</td>\n",
       "      <td>84.852361</td>\n",
       "      <td>110.382411</td>\n",
       "      <td>retinopathy</td>\n",
       "    </tr>\n",
       "    <tr>\n",
       "      <th>2</th>\n",
       "      <td>2</td>\n",
       "      <td>69.003986</td>\n",
       "      <td>111.349455</td>\n",
       "      <td>109.850616</td>\n",
       "      <td>100.828246</td>\n",
       "      <td>retinopathy</td>\n",
       "    </tr>\n",
       "    <tr>\n",
       "      <th>3</th>\n",
       "      <td>3</td>\n",
       "      <td>82.638210</td>\n",
       "      <td>95.056128</td>\n",
       "      <td>79.666851</td>\n",
       "      <td>87.066303</td>\n",
       "      <td>retinopathy</td>\n",
       "    </tr>\n",
       "    <tr>\n",
       "      <th>4</th>\n",
       "      <td>4</td>\n",
       "      <td>78.346286</td>\n",
       "      <td>109.154591</td>\n",
       "      <td>90.713220</td>\n",
       "      <td>92.511770</td>\n",
       "      <td>retinopathy</td>\n",
       "    </tr>\n",
       "    <tr>\n",
       "      <th>...</th>\n",
       "      <td>...</td>\n",
       "      <td>...</td>\n",
       "      <td>...</td>\n",
       "      <td>...</td>\n",
       "      <td>...</td>\n",
       "      <td>...</td>\n",
       "    </tr>\n",
       "    <tr>\n",
       "      <th>5995</th>\n",
       "      <td>5995</td>\n",
       "      <td>49.611850</td>\n",
       "      <td>94.857639</td>\n",
       "      <td>86.615671</td>\n",
       "      <td>107.643986</td>\n",
       "      <td>no_retinopathy</td>\n",
       "    </tr>\n",
       "    <tr>\n",
       "      <th>5996</th>\n",
       "      <td>5996</td>\n",
       "      <td>63.099686</td>\n",
       "      <td>100.039527</td>\n",
       "      <td>93.515186</td>\n",
       "      <td>104.971404</td>\n",
       "      <td>retinopathy</td>\n",
       "    </tr>\n",
       "    <tr>\n",
       "      <th>5997</th>\n",
       "      <td>5997</td>\n",
       "      <td>55.562243</td>\n",
       "      <td>98.421446</td>\n",
       "      <td>102.697875</td>\n",
       "      <td>120.875951</td>\n",
       "      <td>retinopathy</td>\n",
       "    </tr>\n",
       "    <tr>\n",
       "      <th>5998</th>\n",
       "      <td>5998</td>\n",
       "      <td>63.468956</td>\n",
       "      <td>106.809289</td>\n",
       "      <td>88.060631</td>\n",
       "      <td>106.052213</td>\n",
       "      <td>retinopathy</td>\n",
       "    </tr>\n",
       "    <tr>\n",
       "      <th>5999</th>\n",
       "      <td>5999</td>\n",
       "      <td>62.506825</td>\n",
       "      <td>96.900784</td>\n",
       "      <td>86.878033</td>\n",
       "      <td>108.625436</td>\n",
       "      <td>no_retinopathy</td>\n",
       "    </tr>\n",
       "  </tbody>\n",
       "</table>\n",
       "<p>6000 rows × 6 columns</p>\n",
       "</div>"
      ],
      "text/plain": [
       "        ID        age  systolic_bp  diastolic_bp  cholesterol       prognosis\n",
       "0        0  77.196340    85.288742     80.021878    79.957109     retinopathy\n",
       "1        1  63.529850    99.379736     84.852361   110.382411     retinopathy\n",
       "2        2  69.003986   111.349455    109.850616   100.828246     retinopathy\n",
       "3        3  82.638210    95.056128     79.666851    87.066303     retinopathy\n",
       "4        4  78.346286   109.154591     90.713220    92.511770     retinopathy\n",
       "...    ...        ...          ...           ...          ...             ...\n",
       "5995  5995  49.611850    94.857639     86.615671   107.643986  no_retinopathy\n",
       "5996  5996  63.099686   100.039527     93.515186   104.971404     retinopathy\n",
       "5997  5997  55.562243    98.421446    102.697875   120.875951     retinopathy\n",
       "5998  5998  63.468956   106.809289     88.060631   106.052213     retinopathy\n",
       "5999  5999  62.506825    96.900784     86.878033   108.625436  no_retinopathy\n",
       "\n",
       "[6000 rows x 6 columns]"
      ]
     },
     "execution_count": 3,
     "metadata": {},
     "output_type": "execute_result"
    }
   ],
   "source": [
    "pronostico"
   ]
  },
  {
   "cell_type": "code",
   "execution_count": 2,
   "id": "3dc34f0b",
   "metadata": {},
   "outputs": [],
   "source": [
    "pronostico=pd.read_csv(\"D:\\\\DS-Project\\\\pronostico_dataset.csv\",sep=';')"
   ]
  },
  {
   "cell_type": "markdown",
   "id": "28da9a86",
   "metadata": {},
   "source": [
    "### Remove the Unwanted Column"
   ]
  },
  {
   "cell_type": "code",
   "execution_count": 4,
   "id": "d65b3c25",
   "metadata": {},
   "outputs": [],
   "source": [
    "pronostico.drop(columns='ID',axis=1,inplace=True)"
   ]
  },
  {
   "cell_type": "code",
   "execution_count": 5,
   "id": "6d1b13ca",
   "metadata": {},
   "outputs": [
    {
     "data": {
      "text/html": [
       "<div>\n",
       "<style scoped>\n",
       "    .dataframe tbody tr th:only-of-type {\n",
       "        vertical-align: middle;\n",
       "    }\n",
       "\n",
       "    .dataframe tbody tr th {\n",
       "        vertical-align: top;\n",
       "    }\n",
       "\n",
       "    .dataframe thead th {\n",
       "        text-align: right;\n",
       "    }\n",
       "</style>\n",
       "<table border=\"1\" class=\"dataframe\">\n",
       "  <thead>\n",
       "    <tr style=\"text-align: right;\">\n",
       "      <th></th>\n",
       "      <th>age</th>\n",
       "      <th>systolic_bp</th>\n",
       "      <th>diastolic_bp</th>\n",
       "      <th>cholesterol</th>\n",
       "      <th>prognosis</th>\n",
       "    </tr>\n",
       "  </thead>\n",
       "  <tbody>\n",
       "    <tr>\n",
       "      <th>0</th>\n",
       "      <td>77.196340</td>\n",
       "      <td>85.288742</td>\n",
       "      <td>80.021878</td>\n",
       "      <td>79.957109</td>\n",
       "      <td>retinopathy</td>\n",
       "    </tr>\n",
       "    <tr>\n",
       "      <th>1</th>\n",
       "      <td>63.529850</td>\n",
       "      <td>99.379736</td>\n",
       "      <td>84.852361</td>\n",
       "      <td>110.382411</td>\n",
       "      <td>retinopathy</td>\n",
       "    </tr>\n",
       "    <tr>\n",
       "      <th>2</th>\n",
       "      <td>69.003986</td>\n",
       "      <td>111.349455</td>\n",
       "      <td>109.850616</td>\n",
       "      <td>100.828246</td>\n",
       "      <td>retinopathy</td>\n",
       "    </tr>\n",
       "    <tr>\n",
       "      <th>3</th>\n",
       "      <td>82.638210</td>\n",
       "      <td>95.056128</td>\n",
       "      <td>79.666851</td>\n",
       "      <td>87.066303</td>\n",
       "      <td>retinopathy</td>\n",
       "    </tr>\n",
       "    <tr>\n",
       "      <th>4</th>\n",
       "      <td>78.346286</td>\n",
       "      <td>109.154591</td>\n",
       "      <td>90.713220</td>\n",
       "      <td>92.511770</td>\n",
       "      <td>retinopathy</td>\n",
       "    </tr>\n",
       "    <tr>\n",
       "      <th>...</th>\n",
       "      <td>...</td>\n",
       "      <td>...</td>\n",
       "      <td>...</td>\n",
       "      <td>...</td>\n",
       "      <td>...</td>\n",
       "    </tr>\n",
       "    <tr>\n",
       "      <th>5995</th>\n",
       "      <td>49.611850</td>\n",
       "      <td>94.857639</td>\n",
       "      <td>86.615671</td>\n",
       "      <td>107.643986</td>\n",
       "      <td>no_retinopathy</td>\n",
       "    </tr>\n",
       "    <tr>\n",
       "      <th>5996</th>\n",
       "      <td>63.099686</td>\n",
       "      <td>100.039527</td>\n",
       "      <td>93.515186</td>\n",
       "      <td>104.971404</td>\n",
       "      <td>retinopathy</td>\n",
       "    </tr>\n",
       "    <tr>\n",
       "      <th>5997</th>\n",
       "      <td>55.562243</td>\n",
       "      <td>98.421446</td>\n",
       "      <td>102.697875</td>\n",
       "      <td>120.875951</td>\n",
       "      <td>retinopathy</td>\n",
       "    </tr>\n",
       "    <tr>\n",
       "      <th>5998</th>\n",
       "      <td>63.468956</td>\n",
       "      <td>106.809289</td>\n",
       "      <td>88.060631</td>\n",
       "      <td>106.052213</td>\n",
       "      <td>retinopathy</td>\n",
       "    </tr>\n",
       "    <tr>\n",
       "      <th>5999</th>\n",
       "      <td>62.506825</td>\n",
       "      <td>96.900784</td>\n",
       "      <td>86.878033</td>\n",
       "      <td>108.625436</td>\n",
       "      <td>no_retinopathy</td>\n",
       "    </tr>\n",
       "  </tbody>\n",
       "</table>\n",
       "<p>6000 rows × 5 columns</p>\n",
       "</div>"
      ],
      "text/plain": [
       "            age  systolic_bp  diastolic_bp  cholesterol       prognosis\n",
       "0     77.196340    85.288742     80.021878    79.957109     retinopathy\n",
       "1     63.529850    99.379736     84.852361   110.382411     retinopathy\n",
       "2     69.003986   111.349455    109.850616   100.828246     retinopathy\n",
       "3     82.638210    95.056128     79.666851    87.066303     retinopathy\n",
       "4     78.346286   109.154591     90.713220    92.511770     retinopathy\n",
       "...         ...          ...           ...          ...             ...\n",
       "5995  49.611850    94.857639     86.615671   107.643986  no_retinopathy\n",
       "5996  63.099686   100.039527     93.515186   104.971404     retinopathy\n",
       "5997  55.562243    98.421446    102.697875   120.875951     retinopathy\n",
       "5998  63.468956   106.809289     88.060631   106.052213     retinopathy\n",
       "5999  62.506825    96.900784     86.878033   108.625436  no_retinopathy\n",
       "\n",
       "[6000 rows x 5 columns]"
      ]
     },
     "execution_count": 5,
     "metadata": {},
     "output_type": "execute_result"
    }
   ],
   "source": [
    "pronostico"
   ]
  },
  {
   "cell_type": "code",
   "execution_count": 6,
   "id": "f7bb2577",
   "metadata": {},
   "outputs": [],
   "source": [
    "label_encoder = preprocessing.LabelEncoder()"
   ]
  },
  {
   "cell_type": "code",
   "execution_count": 7,
   "id": "ec4c7c9b",
   "metadata": {},
   "outputs": [],
   "source": [
    "pronostico['prognosis']= label_encoder.fit_transform(pronostico['prognosis'])"
   ]
  },
  {
   "cell_type": "code",
   "execution_count": 8,
   "id": "3b3882d5",
   "metadata": {},
   "outputs": [],
   "source": [
    "x=pronostico.iloc[:,:-1]\n",
    "y=pronostico.iloc[:,-1]\n",
    "ss=StandardScaler()\n",
    "x=ss.fit_transform(x)"
   ]
  },
  {
   "cell_type": "code",
   "execution_count": 9,
   "id": "a664bec9",
   "metadata": {},
   "outputs": [
    {
     "data": {
      "text/plain": [
       "array([[ 1.95385881, -1.44408831, -1.08668383, -1.98131478],\n",
       "       [ 0.35799212, -0.12326958, -0.58598051,  0.93492889],\n",
       "       [ 0.9972193 ,  0.9987116 ,  2.00521155,  0.01916893],\n",
       "       ...,\n",
       "       [-0.57240332, -0.21309482,  1.26379482,  1.94072729],\n",
       "       [ 0.3508814 ,  0.5731393 , -0.25342752,  0.51988249],\n",
       "       [ 0.23853111, -0.35563406, -0.37600957,  0.7665241 ]])"
      ]
     },
     "execution_count": 9,
     "metadata": {},
     "output_type": "execute_result"
    }
   ],
   "source": [
    "x"
   ]
  },
  {
   "cell_type": "code",
   "execution_count": 10,
   "id": "3b605e13",
   "metadata": {},
   "outputs": [
    {
     "data": {
      "text/plain": [
       "0       1\n",
       "1       1\n",
       "2       1\n",
       "3       1\n",
       "4       1\n",
       "       ..\n",
       "5995    0\n",
       "5996    1\n",
       "5997    1\n",
       "5998    1\n",
       "5999    0\n",
       "Name: prognosis, Length: 6000, dtype: int32"
      ]
     },
     "execution_count": 10,
     "metadata": {},
     "output_type": "execute_result"
    }
   ],
   "source": [
    "y"
   ]
  },
  {
   "cell_type": "code",
   "execution_count": 11,
   "id": "bb164dae",
   "metadata": {},
   "outputs": [
    {
     "data": {
      "text/plain": [
       "(dtype('float64'), dtype('int32'))"
      ]
     },
     "execution_count": 11,
     "metadata": {},
     "output_type": "execute_result"
    }
   ],
   "source": [
    "x.dtype,y.dtype"
   ]
  },
  {
   "cell_type": "code",
   "execution_count": 12,
   "id": "b2c4f584",
   "metadata": {},
   "outputs": [],
   "source": [
    "x_train,x_test,y_train,y_test=train_test_split(x,y, test_size=0.2,random_state=0)"
   ]
  },
  {
   "cell_type": "code",
   "execution_count": 13,
   "id": "69c42191",
   "metadata": {},
   "outputs": [
    {
     "data": {
      "text/plain": [
       "((4800, 4), (4800,))"
      ]
     },
     "execution_count": 13,
     "metadata": {},
     "output_type": "execute_result"
    }
   ],
   "source": [
    "x_train.shape,y_train.shape"
   ]
  },
  {
   "cell_type": "code",
   "execution_count": 31,
   "id": "beb89020",
   "metadata": {},
   "outputs": [],
   "source": [
    "accuracy={}\n",
    "recall={}\n",
    "precision={}\n",
    "f1={}\n",
    "models={}"
   ]
  },
  {
   "cell_type": "markdown",
   "id": "f1e0cada",
   "metadata": {},
   "source": [
    "## Model Building"
   ]
  },
  {
   "cell_type": "markdown",
   "id": "95a9c906",
   "metadata": {},
   "source": [
    "### Random Forest"
   ]
  },
  {
   "cell_type": "code",
   "execution_count": 17,
   "id": "0570449f",
   "metadata": {},
   "outputs": [],
   "source": [
    "Kfold=KFold(n_splits=10)"
   ]
  },
  {
   "cell_type": "code",
   "execution_count": 19,
   "id": "34e106f5",
   "metadata": {},
   "outputs": [
    {
     "data": {
      "text/plain": [
       "GridSearchCV(cv=KFold(n_splits=10, random_state=None, shuffle=False),\n",
       "             estimator=RandomForestClassifier(max_depth=3, max_features=4,\n",
       "                                              random_state=23),\n",
       "             n_jobs=1,\n",
       "             param_grid=[{'max_depth': [2, 3, 4, 5],\n",
       "                          'n_estimators': range(64, 125)}],\n",
       "             scoring='recall')"
      ]
     },
     "execution_count": 19,
     "metadata": {},
     "output_type": "execute_result"
    }
   ],
   "source": [
    "param_grid=[{'n_estimators':range(64,125),'max_depth':[2,3,4,5]}]\n",
    "rf = RandomForestClassifier(max_features=4,max_depth=3,criterion='gini',random_state=23)\n",
    "gsrf = GridSearchCV(rf,param_grid,scoring='recall',n_jobs=1,cv=Kfold)\n",
    "gsrf.fit(x_train,y_train)"
   ]
  },
  {
   "cell_type": "code",
   "execution_count": 20,
   "id": "ea126c71",
   "metadata": {},
   "outputs": [
    {
     "data": {
      "text/plain": [
       "({'max_depth': 2, 'n_estimators': 107}, 0.7891963966425528)"
      ]
     },
     "execution_count": 20,
     "metadata": {},
     "output_type": "execute_result"
    }
   ],
   "source": [
    "gsrf.best_params_ , gsrf.best_score_"
   ]
  },
  {
   "cell_type": "code",
   "execution_count": 32,
   "id": "c8d96916",
   "metadata": {},
   "outputs": [
    {
     "name": "stdout",
     "output_type": "stream",
     "text": [
      "0.7408333333333333\n",
      "0.8267326732673267\n",
      "              precision    recall  f1-score   support\n",
      "\n",
      "           0       0.79      0.65      0.71       594\n",
      "           1       0.71      0.83      0.76       606\n",
      "\n",
      "    accuracy                           0.74      1200\n",
      "   macro avg       0.75      0.74      0.74      1200\n",
      "weighted avg       0.75      0.74      0.74      1200\n",
      "\n",
      "confusion matrix:n/n [[388 206]\n",
      " [105 501]]\n"
     ]
    }
   ],
   "source": [
    "model_rf = RandomForestClassifier(n_estimators=107,max_depth=2, max_features=4,criterion='gini',random_state=23)\n",
    "model_rf.fit(x_train,y_train)\n",
    "print(metrics.accuracy_score(y_test,model_rf.predict(x_test)))\n",
    "print(metrics.recall_score(y_test,model_rf.predict(x_test)))\n",
    "print( metrics.classification_report(y_test,model_rf.predict(x_test)))\n",
    "print('confusion matrix:n/n',metrics.confusion_matrix(y_test,model_rf.predict(x_test)))\n",
    "accuracy['rf']=metrics.accuracy_score(y_test,model_rf.predict(x_test))\n",
    "recall['rf']=metrics.recall_score(y_test,model_rf.predict(x_test))\n",
    "precision['rf']=metrics.precision_score(y_test,model_rf.predict(x_test))\n",
    "f1['rf']=metrics.f1_score(y_test,model_rf.predict(x_test))\n",
    "models['rf']=model_rf"
   ]
  },
  {
   "cell_type": "markdown",
   "id": "f097f11e",
   "metadata": {},
   "source": [
    "### roc-curve"
   ]
  },
  {
   "cell_type": "code",
   "execution_count": 36,
   "id": "985060b6",
   "metadata": {},
   "outputs": [
    {
     "data": {
      "text/plain": [
       "Text(0, 0.5, 'True Positive Rate')"
      ]
     },
     "execution_count": 36,
     "metadata": {},
     "output_type": "execute_result"
    },
    {
     "data": {
      "image/png": "[encoded data removed]",
      "text/plain": [
       "<Figure size 432x288 with 1 Axes>"
      ]
     },
     "metadata": {
      "needs_background": "light"
     },
     "output_type": "display_data"
    }
   ],
   "source": [
    "auc=metrics.roc_auc_score(y_test,model_rf.predict(x_test))\n",
    "fpr,tpr,threshold=metrics.roc_curve(y_test,model_rf.predict_proba(x_test)[:,1])\n",
    "plt.figure(figsize=(6,4))\n",
    "plt.plot(fpr,tpr,color=\"blue\",label=\"logit model(area = %0.2f)\"%auc)\n",
    "plt.plot([0,1],[0,1],\"k--\")\n",
    "plt.xlabel(\"False Positive Rate (1-true negative rate)\",size=12)\n",
    "plt.ylabel(\"True Positive Rate\",size=15)"
   ]
  },
  {
   "cell_type": "code",
   "execution_count": null,
   "id": "00ffd751",
   "metadata": {},
   "outputs": [],
   "source": []
  }
 ],
 "metadata": {
  "kernelspec": {
   "display_name": "Python 3 (ipykernel)",
   "language": "python",
   "name": "python3"
  },
  "language_info": {
   "codemirror_mode": {
    "name": "ipython",
    "version": 3
   },
   "file_extension": ".py",
   "mimetype": "text/x-python",
   "name": "python",
   "nbconvert_exporter": "python",
   "pygments_lexer": "ipython3",
   "version": "3.9.12"
  }
 },
 "nbformat": 4,
 "nbformat_minor": 5
}
